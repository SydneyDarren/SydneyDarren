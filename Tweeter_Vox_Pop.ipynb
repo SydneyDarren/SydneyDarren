{
  "nbformat": 4,
  "nbformat_minor": 0,
  "metadata": {
    "colab": {
      "provenance": [],
      "authorship_tag": "ABX9TyMDI2svRDN84/cDzChcUJr7",
      "include_colab_link": true
    },
    "kernelspec": {
      "name": "python3",
      "display_name": "Python 3"
    },
    "language_info": {
      "name": "python"
    }
  },
  "cells": [
    {
      "cell_type": "markdown",
      "metadata": {
        "id": "view-in-github",
        "colab_type": "text"
      },
      "source": [
        "<a href=\"https://colab.research.google.com/github/SydneyDarren/SydneyDarren/blob/main/Tweeter_Vox_Pop.ipynb\" target=\"_parent\"><img src=\"https://colab.research.google.com/assets/colab-badge.svg\" alt=\"Open In Colab\"/></a>"
      ]
    },
    {
      "cell_type": "code",
      "execution_count": 1,
      "metadata": {
        "id": "f-o1_6OuTDxO",
        "outputId": "ffefdc96-99f3-4504-da60-2e6f7e06ce1e",
        "colab": {
          "base_uri": "https://localhost:8080/"
        }
      },
      "outputs": [
        {
          "output_type": "stream",
          "name": "stdout",
          "text": [
            "Requirement already satisfied: tweepy in /usr/local/lib/python3.10/dist-packages (4.13.0)\n",
            "Requirement already satisfied: oauthlib<4,>=3.2.0 in /usr/local/lib/python3.10/dist-packages (from tweepy) (3.2.2)\n",
            "Requirement already satisfied: requests<3,>=2.27.0 in /usr/local/lib/python3.10/dist-packages (from tweepy) (2.31.0)\n",
            "Requirement already satisfied: requests-oauthlib<2,>=1.2.0 in /usr/local/lib/python3.10/dist-packages (from tweepy) (1.3.1)\n",
            "Requirement already satisfied: charset-normalizer<4,>=2 in /usr/local/lib/python3.10/dist-packages (from requests<3,>=2.27.0->tweepy) (3.3.0)\n",
            "Requirement already satisfied: idna<4,>=2.5 in /usr/local/lib/python3.10/dist-packages (from requests<3,>=2.27.0->tweepy) (3.4)\n",
            "Requirement already satisfied: urllib3<3,>=1.21.1 in /usr/local/lib/python3.10/dist-packages (from requests<3,>=2.27.0->tweepy) (2.0.6)\n",
            "Requirement already satisfied: certifi>=2017.4.17 in /usr/local/lib/python3.10/dist-packages (from requests<3,>=2.27.0->tweepy) (2023.7.22)\n"
          ]
        }
      ],
      "source": [
        "!pip install tweepy"
      ]
    },
    {
      "cell_type": "code",
      "source": [
        "!pip install tweepy --upgrade"
      ],
      "metadata": {
        "colab": {
          "base_uri": "https://localhost:8080/"
        },
        "id": "5fSOT8h9VfGs",
        "outputId": "e8a0d539-6cae-4bb2-a858-547a2c9f00e5"
      },
      "execution_count": 2,
      "outputs": [
        {
          "output_type": "stream",
          "name": "stdout",
          "text": [
            "Requirement already satisfied: tweepy in /usr/local/lib/python3.10/dist-packages (4.13.0)\n",
            "Collecting tweepy\n",
            "  Downloading tweepy-4.14.0-py3-none-any.whl (98 kB)\n",
            "\u001b[2K     \u001b[90m━━━━━━━━━━━━━━━━━━━━━━━━━━━━━━━━━━━━━━━━\u001b[0m \u001b[32m98.5/98.5 kB\u001b[0m \u001b[31m2.2 MB/s\u001b[0m eta \u001b[36m0:00:00\u001b[0m\n",
            "\u001b[?25hRequirement already satisfied: oauthlib<4,>=3.2.0 in /usr/local/lib/python3.10/dist-packages (from tweepy) (3.2.2)\n",
            "Requirement already satisfied: requests<3,>=2.27.0 in /usr/local/lib/python3.10/dist-packages (from tweepy) (2.31.0)\n",
            "Requirement already satisfied: requests-oauthlib<2,>=1.2.0 in /usr/local/lib/python3.10/dist-packages (from tweepy) (1.3.1)\n",
            "Requirement already satisfied: charset-normalizer<4,>=2 in /usr/local/lib/python3.10/dist-packages (from requests<3,>=2.27.0->tweepy) (3.3.0)\n",
            "Requirement already satisfied: idna<4,>=2.5 in /usr/local/lib/python3.10/dist-packages (from requests<3,>=2.27.0->tweepy) (3.4)\n",
            "Requirement already satisfied: urllib3<3,>=1.21.1 in /usr/local/lib/python3.10/dist-packages (from requests<3,>=2.27.0->tweepy) (2.0.6)\n",
            "Requirement already satisfied: certifi>=2017.4.17 in /usr/local/lib/python3.10/dist-packages (from requests<3,>=2.27.0->tweepy) (2023.7.22)\n",
            "Installing collected packages: tweepy\n",
            "  Attempting uninstall: tweepy\n",
            "    Found existing installation: tweepy 4.13.0\n",
            "    Uninstalling tweepy-4.13.0:\n",
            "      Successfully uninstalled tweepy-4.13.0\n",
            "Successfully installed tweepy-4.14.0\n"
          ]
        }
      ]
    },
    {
      "cell_type": "code",
      "source": [
        "!pip install tweepy[async]"
      ],
      "metadata": {
        "colab": {
          "base_uri": "https://localhost:8080/"
        },
        "id": "evDScbhlYaka",
        "outputId": "2f85f2a3-1f20-4e8f-cbfc-5e4bd95ce7bb"
      },
      "execution_count": 3,
      "outputs": [
        {
          "output_type": "stream",
          "name": "stdout",
          "text": [
            "Requirement already satisfied: tweepy[async] in /usr/local/lib/python3.10/dist-packages (4.13.0)\n",
            "Requirement already satisfied: oauthlib<4,>=3.2.0 in /usr/local/lib/python3.10/dist-packages (from tweepy[async]) (3.2.2)\n",
            "Requirement already satisfied: requests<3,>=2.27.0 in /usr/local/lib/python3.10/dist-packages (from tweepy[async]) (2.31.0)\n",
            "Requirement already satisfied: requests-oauthlib<2,>=1.2.0 in /usr/local/lib/python3.10/dist-packages (from tweepy[async]) (1.3.1)\n",
            "Requirement already satisfied: aiohttp<4,>=3.7.3 in /usr/local/lib/python3.10/dist-packages (from tweepy[async]) (3.8.6)\n",
            "Collecting async-lru<3,>=1.0.3 (from tweepy[async])\n",
            "  Downloading async_lru-2.0.4-py3-none-any.whl (6.1 kB)\n",
            "Requirement already satisfied: attrs>=17.3.0 in /usr/local/lib/python3.10/dist-packages (from aiohttp<4,>=3.7.3->tweepy[async]) (23.1.0)\n",
            "Requirement already satisfied: charset-normalizer<4.0,>=2.0 in /usr/local/lib/python3.10/dist-packages (from aiohttp<4,>=3.7.3->tweepy[async]) (3.3.0)\n",
            "Requirement already satisfied: multidict<7.0,>=4.5 in /usr/local/lib/python3.10/dist-packages (from aiohttp<4,>=3.7.3->tweepy[async]) (6.0.4)\n",
            "Requirement already satisfied: async-timeout<5.0,>=4.0.0a3 in /usr/local/lib/python3.10/dist-packages (from aiohttp<4,>=3.7.3->tweepy[async]) (4.0.3)\n",
            "Requirement already satisfied: yarl<2.0,>=1.0 in /usr/local/lib/python3.10/dist-packages (from aiohttp<4,>=3.7.3->tweepy[async]) (1.9.2)\n",
            "Requirement already satisfied: frozenlist>=1.1.1 in /usr/local/lib/python3.10/dist-packages (from aiohttp<4,>=3.7.3->tweepy[async]) (1.4.0)\n",
            "Requirement already satisfied: aiosignal>=1.1.2 in /usr/local/lib/python3.10/dist-packages (from aiohttp<4,>=3.7.3->tweepy[async]) (1.3.1)\n",
            "Requirement already satisfied: typing-extensions>=4.0.0 in /usr/local/lib/python3.10/dist-packages (from async-lru<3,>=1.0.3->tweepy[async]) (4.5.0)\n",
            "Requirement already satisfied: idna<4,>=2.5 in /usr/local/lib/python3.10/dist-packages (from requests<3,>=2.27.0->tweepy[async]) (3.4)\n",
            "Requirement already satisfied: urllib3<3,>=1.21.1 in /usr/local/lib/python3.10/dist-packages (from requests<3,>=2.27.0->tweepy[async]) (2.0.6)\n",
            "Requirement already satisfied: certifi>=2017.4.17 in /usr/local/lib/python3.10/dist-packages (from requests<3,>=2.27.0->tweepy[async]) (2023.7.22)\n",
            "Installing collected packages: async-lru\n",
            "Successfully installed async-lru-2.0.4\n"
          ]
        }
      ]
    },
    {
      "cell_type": "code",
      "source": [
        "pip install git+https://github.com/tweepy/tweepy.git"
      ],
      "metadata": {
        "colab": {
          "base_uri": "https://localhost:8080/"
        },
        "id": "T1ZttsRUYk_d",
        "outputId": "c216c178-2a4f-489a-8619-9576a644c027"
      },
      "execution_count": 7,
      "outputs": [
        {
          "output_type": "stream",
          "name": "stdout",
          "text": [
            "Collecting git+https://github.com/tweepy/tweepy.git\n",
            "  Cloning https://github.com/tweepy/tweepy.git to /tmp/pip-req-build-m9fm2o5_\n",
            "  Running command git clone --filter=blob:none --quiet https://github.com/tweepy/tweepy.git /tmp/pip-req-build-m9fm2o5_\n",
            "  Resolved https://github.com/tweepy/tweepy.git to commit f32d12dbddbd877470446657812a10a04292d0c9\n",
            "  Preparing metadata (setup.py) ... \u001b[?25l\u001b[?25hdone\n",
            "Requirement already satisfied: oauthlib<4,>=3.2.0 in /usr/local/lib/python3.10/dist-packages (from tweepy==4.14.0) (3.2.2)\n",
            "Requirement already satisfied: requests<3,>=2.27.0 in /usr/local/lib/python3.10/dist-packages (from tweepy==4.14.0) (2.31.0)\n",
            "Requirement already satisfied: requests-oauthlib<2,>=1.2.0 in /usr/local/lib/python3.10/dist-packages (from tweepy==4.14.0) (1.3.1)\n",
            "Requirement already satisfied: charset-normalizer<4,>=2 in /usr/local/lib/python3.10/dist-packages (from requests<3,>=2.27.0->tweepy==4.14.0) (3.3.0)\n",
            "Requirement already satisfied: idna<4,>=2.5 in /usr/local/lib/python3.10/dist-packages (from requests<3,>=2.27.0->tweepy==4.14.0) (3.4)\n",
            "Requirement already satisfied: urllib3<3,>=1.21.1 in /usr/local/lib/python3.10/dist-packages (from requests<3,>=2.27.0->tweepy==4.14.0) (2.0.6)\n",
            "Requirement already satisfied: certifi>=2017.4.17 in /usr/local/lib/python3.10/dist-packages (from requests<3,>=2.27.0->tweepy==4.14.0) (2023.7.22)\n"
          ]
        }
      ]
    },
    {
      "cell_type": "code",
      "source": [
        "#Authentication\n",
        "API_KEY = \"aYxspDTwf8KxODqsWH7mBIGBB\"\n",
        "API_SECRET = \"wSy6gqGqX2Z5u0xKTjwYLCNmlPI13YHwGKo2y5jhA3tyZEOrwg\"\n",
        "BEARER_TOKEN = \"AAAAAAAAAAAAAAAAAAAAABsvqgEAAAAAnSCx8IXsKxVBKnEa5g9zWEzwZME%3DTwMp7dSKHhyxfxQkve8Ogblnq1mGqs4CvWS58L0MuNf7ouNZCV\"\n",
        "ACCESS_TOKEN = \"1713887393420607489-LGmKobGNWxG0yHqTePKNUMxsoEyCY7\"\n",
        "ACCESS_TOKEN_SECRET = \"zGnY2fsxeAZjPEHbftdElTOucNe2spnY4PRzWCLlll4Z8\""
      ],
      "metadata": {
        "id": "ninwYRoOXUnq"
      },
      "execution_count": 9,
      "outputs": []
    },
    {
      "cell_type": "code",
      "source": [
        "# You can provide the consumer key and secret with the access token and access\n",
        "# token secret to authenticate as a user\n",
        "client = tweepy.Client(\n",
        "    consumer_key=API_KEY,\n",
        "    consumer_secret=API_SECRET,\n",
        "    access_token=ACCESS_TOKEN,\n",
        "    access_token_secret=ACCESS_TOKEN_SECRET\n",
        ")"
      ],
      "metadata": {
        "id": "GH443nXbk-xC"
      },
      "execution_count": 20,
      "outputs": []
    },
    {
      "cell_type": "code",
      "source": [
        "import tweepy\n",
        "\n",
        "# You can authenticate as your app with just your bearer token\n",
        "client = tweepy.Client(bearer_token=BEARER_TOKEN)"
      ],
      "metadata": {
        "id": "2vVDeLwTxEXy"
      },
      "execution_count": null,
      "outputs": []
    },
    {
      "cell_type": "code",
      "source": [
        "print(\"Tweepy version:\", tweepy.__version__)"
      ],
      "metadata": {
        "colab": {
          "base_uri": "https://localhost:8080/"
        },
        "id": "Scn9xJuE9ayd",
        "outputId": "e769b9b8-6125-4c04-b3d3-3e6f90666071"
      },
      "execution_count": 37,
      "outputs": [
        {
          "output_type": "stream",
          "name": "stdout",
          "text": [
            "Tweepy version: 4.13.0\n"
          ]
        }
      ]
    },
    {
      "cell_type": "code",
      "source": [
        "# Define query\n",
        "query = 'from:gucci -is:retweet'\n",
        "\n",
        "# get tweets & set max results\n",
        "tweets = client.search_recent_tweets(query=query,\n",
        "                                    tweet_fields=['author_id', 'created_at'],\n",
        "                                     max_results=10)"
      ],
      "metadata": {
        "colab": {
          "base_uri": "https://localhost:8080/",
          "height": 407
        },
        "id": "AOuvWApR4jd5",
        "outputId": "5d0c9e0a-059d-4183-ced3-eae5effc32e6"
      },
      "execution_count": 36,
      "outputs": [
        {
          "output_type": "error",
          "ename": "Unauthorized",
          "evalue": "ignored",
          "traceback": [
            "\u001b[0;31m---------------------------------------------------------------------------\u001b[0m",
            "\u001b[0;31mUnauthorized\u001b[0m                              Traceback (most recent call last)",
            "\u001b[0;32m<ipython-input-36-653c32335ac2>\u001b[0m in \u001b[0;36m<cell line: 5>\u001b[0;34m()\u001b[0m\n\u001b[1;32m      3\u001b[0m \u001b[0;34m\u001b[0m\u001b[0m\n\u001b[1;32m      4\u001b[0m \u001b[0;31m# get tweets & set max results\u001b[0m\u001b[0;34m\u001b[0m\u001b[0;34m\u001b[0m\u001b[0m\n\u001b[0;32m----> 5\u001b[0;31m tweets = client.search_recent_tweets(query=query, \n\u001b[0m\u001b[1;32m      6\u001b[0m                                     \u001b[0mtweet_fields\u001b[0m\u001b[0;34m=\u001b[0m\u001b[0;34m[\u001b[0m\u001b[0;34m'author_id'\u001b[0m\u001b[0;34m,\u001b[0m \u001b[0;34m'created_at'\u001b[0m\u001b[0;34m]\u001b[0m\u001b[0;34m,\u001b[0m\u001b[0;34m\u001b[0m\u001b[0;34m\u001b[0m\u001b[0m\n\u001b[1;32m      7\u001b[0m                                      max_results=10)\n",
            "\u001b[0;32m/usr/local/lib/python3.10/dist-packages/tweepy/client.py\u001b[0m in \u001b[0;36msearch_recent_tweets\u001b[0;34m(self, query, user_auth, **params)\u001b[0m\n\u001b[1;32m   1264\u001b[0m         \u001b[0;34m.\u001b[0m\u001b[0;34m.\u001b[0m \u001b[0m_Standard\u001b[0m \u001b[0mProject\u001b[0m\u001b[0;34m:\u001b[0m \u001b[0mhttps\u001b[0m\u001b[0;34m:\u001b[0m\u001b[0;34m//\u001b[0m\u001b[0mdeveloper\u001b[0m\u001b[0;34m.\u001b[0m\u001b[0mtwitter\u001b[0m\u001b[0;34m.\u001b[0m\u001b[0mcom\u001b[0m\u001b[0;34m/\u001b[0m\u001b[0men\u001b[0m\u001b[0;34m/\u001b[0m\u001b[0mdocs\u001b[0m\u001b[0;34m/\u001b[0m\u001b[0mprojects\u001b[0m\u001b[0;34m\u001b[0m\u001b[0;34m\u001b[0m\u001b[0m\n\u001b[1;32m   1265\u001b[0m         \u001b[0;34m.\u001b[0m\u001b[0;34m.\u001b[0m \u001b[0m_access\u001b[0m \u001b[0mlevel\u001b[0m\u001b[0;34m:\u001b[0m \u001b[0mhttps\u001b[0m\u001b[0;34m:\u001b[0m\u001b[0;34m//\u001b[0m\u001b[0mdeveloper\u001b[0m\u001b[0;34m.\u001b[0m\u001b[0mtwitter\u001b[0m\u001b[0;34m.\u001b[0m\u001b[0mcom\u001b[0m\u001b[0;34m/\u001b[0m\u001b[0men\u001b[0m\u001b[0;34m/\u001b[0m\u001b[0mproducts\u001b[0m\u001b[0;34m/\u001b[0m\u001b[0mtwitter\u001b[0m\u001b[0;34m-\u001b[0m\u001b[0mapi\u001b[0m\u001b[0;34m/\u001b[0m\u001b[0mearly\u001b[0m\u001b[0;34m-\u001b[0m\u001b[0maccess\u001b[0m\u001b[0;34m/\u001b[0m\u001b[0mguide\u001b[0m\u001b[0;34m.\u001b[0m\u001b[0mhtml\u001b[0m\u001b[0;31m#na_1\u001b[0m\u001b[0;34m\u001b[0m\u001b[0;34m\u001b[0m\u001b[0m\n\u001b[0;32m-> 1266\u001b[0;31m         \u001b[0;34m.\u001b[0m\u001b[0;34m.\u001b[0m \u001b[0m_operators\u001b[0m\u001b[0;34m:\u001b[0m \u001b[0mhttps\u001b[0m\u001b[0;34m:\u001b[0m\u001b[0;34m//\u001b[0m\u001b[0mdeveloper\u001b[0m\u001b[0;34m.\u001b[0m\u001b[0mtwitter\u001b[0m\u001b[0;34m.\u001b[0m\u001b[0mcom\u001b[0m\u001b[0;34m/\u001b[0m\u001b[0men\u001b[0m\u001b[0;34m/\u001b[0m\u001b[0mdocs\u001b[0m\u001b[0;34m/\u001b[0m\u001b[0mtwitter\u001b[0m\u001b[0;34m-\u001b[0m\u001b[0mapi\u001b[0m\u001b[0;34m/\u001b[0m\u001b[0mtweets\u001b[0m\u001b[0;34m/\u001b[0m\u001b[0msearch\u001b[0m\u001b[0;34m/\u001b[0m\u001b[0mintegrate\u001b[0m\u001b[0;34m/\u001b[0m\u001b[0mbuild\u001b[0m\u001b[0;34m-\u001b[0m\u001b[0ma\u001b[0m\u001b[0;34m-\u001b[0m\u001b[0mquery\u001b[0m\u001b[0;34m\u001b[0m\u001b[0;34m\u001b[0m\u001b[0m\n\u001b[0m\u001b[1;32m   1267\u001b[0m         \u001b[0;34m.\u001b[0m\u001b[0;34m.\u001b[0m \u001b[0m_Academic\u001b[0m \u001b[0mResearch\u001b[0m \u001b[0mProject\u001b[0m\u001b[0;34m:\u001b[0m \u001b[0mhttps\u001b[0m\u001b[0;34m:\u001b[0m\u001b[0;34m//\u001b[0m\u001b[0mdeveloper\u001b[0m\u001b[0;34m.\u001b[0m\u001b[0mtwitter\u001b[0m\u001b[0;34m.\u001b[0m\u001b[0mcom\u001b[0m\u001b[0;34m/\u001b[0m\u001b[0men\u001b[0m\u001b[0;34m/\u001b[0m\u001b[0mdocs\u001b[0m\u001b[0;34m/\u001b[0m\u001b[0mprojects\u001b[0m\u001b[0;34m\u001b[0m\u001b[0;34m\u001b[0m\u001b[0m\n\u001b[1;32m   1268\u001b[0m         \"\"\"\n",
            "\u001b[0;32m/usr/local/lib/python3.10/dist-packages/tweepy/client.py\u001b[0m in \u001b[0;36m_make_request\u001b[0;34m(self, method, route, params, endpoint_parameters, json, data_type, user_auth)\u001b[0m\n\u001b[1;32m    127\u001b[0m         \u001b[0mrequest_params\u001b[0m \u001b[0;34m=\u001b[0m \u001b[0mself\u001b[0m\u001b[0;34m.\u001b[0m\u001b[0m_process_params\u001b[0m\u001b[0;34m(\u001b[0m\u001b[0mparams\u001b[0m\u001b[0;34m,\u001b[0m \u001b[0mendpoint_parameters\u001b[0m\u001b[0;34m)\u001b[0m\u001b[0;34m\u001b[0m\u001b[0;34m\u001b[0m\u001b[0m\n\u001b[1;32m    128\u001b[0m \u001b[0;34m\u001b[0m\u001b[0m\n\u001b[0;32m--> 129\u001b[0;31m         response = self.request(method, route, params=request_params,\n\u001b[0m\u001b[1;32m    130\u001b[0m                                 json=json, user_auth=user_auth)\n\u001b[1;32m    131\u001b[0m \u001b[0;34m\u001b[0m\u001b[0m\n",
            "\u001b[0;32m/usr/local/lib/python3.10/dist-packages/tweepy/client.py\u001b[0m in \u001b[0;36mrequest\u001b[0;34m(self, method, route, params, json, user_auth)\u001b[0m\n\u001b[1;32m     96\u001b[0m                 \u001b[0;32mraise\u001b[0m \u001b[0mBadRequest\u001b[0m\u001b[0;34m(\u001b[0m\u001b[0mresponse\u001b[0m\u001b[0;34m)\u001b[0m\u001b[0;34m\u001b[0m\u001b[0;34m\u001b[0m\u001b[0m\n\u001b[1;32m     97\u001b[0m             \u001b[0;32mif\u001b[0m \u001b[0mresponse\u001b[0m\u001b[0;34m.\u001b[0m\u001b[0mstatus_code\u001b[0m \u001b[0;34m==\u001b[0m \u001b[0;36m401\u001b[0m\u001b[0;34m:\u001b[0m\u001b[0;34m\u001b[0m\u001b[0;34m\u001b[0m\u001b[0m\n\u001b[0;32m---> 98\u001b[0;31m                 \u001b[0;32mraise\u001b[0m \u001b[0mUnauthorized\u001b[0m\u001b[0;34m(\u001b[0m\u001b[0mresponse\u001b[0m\u001b[0;34m)\u001b[0m\u001b[0;34m\u001b[0m\u001b[0;34m\u001b[0m\u001b[0m\n\u001b[0m\u001b[1;32m     99\u001b[0m             \u001b[0;32mif\u001b[0m \u001b[0mresponse\u001b[0m\u001b[0;34m.\u001b[0m\u001b[0mstatus_code\u001b[0m \u001b[0;34m==\u001b[0m \u001b[0;36m403\u001b[0m\u001b[0;34m:\u001b[0m\u001b[0;34m\u001b[0m\u001b[0;34m\u001b[0m\u001b[0m\n\u001b[1;32m    100\u001b[0m                 \u001b[0;32mraise\u001b[0m \u001b[0mForbidden\u001b[0m\u001b[0;34m(\u001b[0m\u001b[0mresponse\u001b[0m\u001b[0;34m)\u001b[0m\u001b[0;34m\u001b[0m\u001b[0;34m\u001b[0m\u001b[0m\n",
            "\u001b[0;31mUnauthorized\u001b[0m: 401 Unauthorized\nUnauthorized"
          ]
        }
      ]
    },
    {
      "cell_type": "code",
      "source": [
        "#Convert the data to a pandas Dataframe.\n",
        "\n",
        "import pandas as pd\n",
        "\n",
        "# Save data as dictionary\n",
        "tweets_dict = tweets.json()\n",
        "\n",
        "# Extract \"data\" value from dictionary\n",
        "tweets_data = tweets_dict['data']\n",
        "\n",
        "# Transform to pandas Dataframe\n",
        "df = pd.json_normalize(tweets_data)"
      ],
      "metadata": {
        "id": "MKmKTWww5ukU"
      },
      "execution_count": null,
      "outputs": []
    },
    {
      "cell_type": "code",
      "source": [
        "# save df\n",
        "df.to_csv(\"tweets_project1_v1.csv\")"
      ],
      "metadata": {
        "id": "Ci207_b557pT"
      },
      "execution_count": null,
      "outputs": []
    },
    {
      "cell_type": "code",
      "source": [
        "# Search Recent Tweets\n",
        "# This endpoint/method returns Tweets from the last seven days\n",
        "\n",
        "response = client.search_recent_tweets(\"gucci\")\n",
        "# The method returns a Response object, a named tuple with data, includes,\n",
        "# errors, and meta fields\n",
        "print(response.meta)\n",
        "\n",
        "# In this case, the data field of the Response returned is a list of Tweet\n",
        "# objects\n",
        "tweets = response.data\n",
        "\n",
        "# Each Tweet object has default ID and text fields\n",
        "for tweet in tweets:\n",
        "    print(tweet.id)\n",
        "    print(tweet.text)\n",
        "\n",
        "# By default, this endpoint/method returns 10 results\n",
        "# You can retrieve up to 100 Tweets by specifying max_results\n",
        "response = client.search_recent_tweets(\"gucci\", max_results=10)"
      ],
      "metadata": {
        "colab": {
          "base_uri": "https://localhost:8080/"
        },
        "id": "uTqzYnJ6uTgz",
        "outputId": "bdaadcca-fce6-46f9-b8a0-c243b693fd1a"
      },
      "execution_count": 27,
      "outputs": [
        {
          "output_type": "stream",
          "name": "stdout",
          "text": [
            "{'newest_id': '1714972993053761630', 'oldest_id': '1714972928918618135', 'result_count': 10, 'next_token': 'b26v89c19zqg8o3fr5efd8ymateuovh9q07bi3fi9pqwt'}\n",
            "1714972993053761630\n",
            "RT @Jemiyaki_: Gucci boy\n",
            "\n",
            "#GUCCIxGEMINI\n",
            "#GucciFlora\n",
            "#FloraFantasy​\n",
            "#GucciBeauty\n",
            "#Gemini_NT https://t.co/K4wFjPBDb9\n",
            "1714972992256487476\n",
            "RT @hausofgagaicon: Father, Son, House of Gucci https://t.co/avhNILGgfW\n",
            "1714972978939859273\n",
            "RT @ornvim: GUCCI FLORA 🪻🌹🌸🌺\n",
            "\n",
            "GUCCIXGEMINI\n",
            "#GUCCIxGEMINI\n",
            "#GucciFlora #Gemini_NT \n",
            "#FloraFantasy​#GucciBeauty https://t.co/iPMtctgeDL\n",
            "1714972956609368555\n",
            "RT @Siam_Paragon: #เจมีไนน์ ร่วมงานเปิดตัวน้ำหอมกลิ่นใหม่ล่าสุดในไลน์ GUCCI FLORA ณ ชั้น M สยามพารากอน\n",
            "\n",
            "#SiamParagon #WorldClassExperience…\n",
            "1714972950229860574\n",
            "RT @Geminint_family: ♊️ ขอบคุณ GUCCI ที่จัดงาน GUCCI FLORA GORGEOUS MAGNOLIA 💜🤍ให้คุณหนูได้มาเก็บบรรยากาศน่ารัก ๆ ที่แสนอบอุ่นกับน้องเจมีไน…\n",
            "1714972949055164778\n",
            "@cryshuesca @seduccion_asc 1. Terre de Hermes\n",
            "2.Calvin klein eternity\n",
            "3. Tommy Bahama orange\n",
            "4. Davidoff sport\n",
            "5. Carolina Herrera\n",
            "6. Calvin klein obsession\n",
            "7. Gucci pour homme\n",
            "1714972943175057806\n",
            "RT @fiercebook_bkk: 🥰 ‘เจมีไนน์’ ที่งานเปิดตัวน้ำหอม Gucci Flora Gorgeous Magnolia Eau de Parfum ณ Hall of Fame ชั้น M สยามพารากอน \n",
            "\n",
            "#Gucci…\n",
            "1714972942189363364\n",
            "RT @Geminint_family: ♊️ ขอบคุณ GUCCI ที่จัดงาน GUCCI FLORA GORGEOUS MAGNOLIA 💜🤍ให้คุณหนูได้มาเก็บบรรยากาศน่ารัก ๆ ที่แสนอบอุ่นกับน้องเจมีไน…\n",
            "1714972931414229500\n",
            "RT @GeminiHome_TH: อีกหนึ่งลุคของเจมีไนน์สำหรับงาน Gucci Flora Gorgeous Magnolia วันนี้ 💛 \n",
            "\n",
            "—— Gemini’s Style  ——\n",
            "\n",
            "#GUCCIxGEMINI\n",
            "#GucciFlor…\n",
            "1714972928918618135\n",
            "RT @Siam_Paragon: #เจมีไนน์ ร่วมงานเปิดตัวน้ำหอมกลิ่นใหม่ล่าสุดในไลน์ GUCCI FLORA ณ ชั้น M สยามพารากอน\n",
            "\n",
            "#SiamParagon #WorldClassExperience…\n"
          ]
        }
      ]
    },
    {
      "cell_type": "code",
      "source": [
        "# You can specify additional Tweet fields to retrieve using tweet_fields\n",
        "response = client.search_recent_tweets(\n",
        "    \"gucci\", tweet_fields=[\"created_at\", \"lang\"]\n",
        ")\n",
        "tweets = response.data\n",
        "\n",
        "# You can then access those fields as attributes of the Tweet objects\n",
        "for tweet in tweets:\n",
        "    print(tweet.id, tweet.lang)\n",
        "\n",
        "# Alternatively, you can also access fields as keys, like a dictionary\n",
        "for tweet in tweets:\n",
        "    print(tweet[\"id\"], tweet[\"lang\"])\n",
        "\n",
        "# There’s also a data attribute/key that provides the entire data dictionary\n",
        "for tweet in tweets:\n",
        "    print(tweet.data)"
      ],
      "metadata": {
        "colab": {
          "base_uri": "https://localhost:8080/"
        },
        "id": "lq7r5uarxoz5",
        "outputId": "8d052513-36fd-4665-f7ad-54b166e0458e"
      },
      "execution_count": 29,
      "outputs": [
        {
          "output_type": "stream",
          "name": "stdout",
          "text": [
            "1714973324034396423 en\n",
            "1714973317902585962 ja\n",
            "1714973305491636492 en\n",
            "1714973304283644248 th\n",
            "1714973301830005020 it\n",
            "1714973297576911294 ja\n",
            "1714973294234071114 ja\n",
            "1714973290463383656 th\n",
            "1714973284050346037 in\n",
            "1714973268678160706 ja\n",
            "1714973324034396423 en\n",
            "1714973317902585962 ja\n",
            "1714973305491636492 en\n",
            "1714973304283644248 th\n",
            "1714973301830005020 it\n",
            "1714973297576911294 ja\n",
            "1714973294234071114 ja\n",
            "1714973290463383656 th\n",
            "1714973284050346037 in\n",
            "1714973268678160706 ja\n",
            "{'created_at': '2023-10-19T11:54:37.000Z', 'edit_history_tweet_ids': ['1714973324034396423'], 'lang': 'en', 'text': 'RT @chartgaga: “House of Gucci” was the #1 program on TV last night in Italy with 2.418M viewers watching the feature film on Rai 1. https:…', 'id': '1714973324034396423'}\n",
            "{'created_at': '2023-10-19T11:54:36.000Z', 'edit_history_tweet_ids': ['1714973317902585962'], 'lang': 'ja', 'text': 'RT @Licca_28: 【#増田貴久 さん私服】\\n  \\\\📺10/19 #ぐるナイ / \\n\\n#私服ゴチ 増田貴久さんの私服\\n\\n❏ シャツ (BALENCIAGA)\\n❏ スカート (GUCCI)\\n❏ バッグ (24時間テレビ)\\n❏ スニーカー (ROKH×CONVERSE)…', 'id': '1714973317902585962'}\n",
            "{'created_at': '2023-10-19T11:54:33.000Z', 'edit_history_tweet_ids': ['1714973305491636492'], 'lang': 'en', 'text': 'RT @Marmeeeeeeee: Spotted: cutest kitten peekaboos to mamii at Gucci flora event🐈🎀 how blooming cuteness🌸✨✨\\n\\nGUCCIXGEMINI\\n\\n#GucciFlora \\n#Fl…', 'id': '1714973305491636492'}\n",
            "{'created_at': '2023-10-19T11:54:33.000Z', 'edit_history_tweet_ids': ['1714973304283644248'], 'lang': 'th', 'text': 'RT @chi_muay: งานGUCCI วันนี้ ขอ 3 กราบ\\nกราบ 1 สไตล์ลิสวันนี้ อวยยศให้กับชุด\\nหน้า ผม รับกับโทนสีงานสุด\\nกราบ 2 ช่างภาพ หรือ แฟนคลับที่ถ่ายรู…', 'id': '1714973304283644248'}\n",
            "{'created_at': '2023-10-19T11:54:32.000Z', 'edit_history_tweet_ids': ['1714973301830005020'], 'lang': 'it', 'text': 'RT @ornvim: GUCCI FLORA \\U0001fabb🌹🌸🌺\\n\\nGUCCIXGEMINI\\n#GUCCIxGEMINI\\n#GucciFlora #Gemini_NT \\n#FloraFantasy\\u200b#GucciBeauty https://t.co/iPMtctgeDL', 'id': '1714973301830005020'}\n",
            "{'created_at': '2023-10-19T11:54:31.000Z', 'edit_history_tweet_ids': ['1714973297576911294'], 'lang': 'ja', 'text': 'と、おもったはGUCCIだた。しょぼん', 'id': '1714973297576911294'}\n",
            "{'created_at': '2023-10-19T11:54:30.000Z', 'edit_history_tweet_ids': ['1714973294234071114'], 'lang': 'ja', 'text': 'RT @taktwi: グッチ銀座 ギャラリー エキシビション「GUCCI VISIONS」https://t.co/w8KB198gPH 入場無料・予約不要  #GucciVisions https://t.co/A8KkXDzOwk', 'id': '1714973294234071114'}\n",
            "{'created_at': '2023-10-19T11:54:29.000Z', 'edit_history_tweet_ids': ['1714973290463383656'], 'lang': 'th', 'text': 'RT @BrIgHtWiNFoReV6: แฟนคลับมาหาเจม แต่เจอโฟร์ท 👀 น้องมากับแม่ปุ้ย เดินผ่านหน้างาน GUCCI ด้วย แวะมาให้กำลังใจเจมแน่เลย\\n\\n/// โฟร์ทกับผมหน้า…', 'id': '1714973290463383656'}\n",
            "{'created_at': '2023-10-19T11:54:28.000Z', 'edit_history_tweet_ids': ['1714973284050346037'], 'lang': 'in', 'text': 'RT @zhanzhanAi_1005: BIG ZHAN at Gucci Aoyama ❤️  #XiaoZhan #XiaoZhanxGucci https://t.co/InYysF8hDJ', 'id': '1714973284050346037'}\n",
            "{'created_at': '2023-10-19T11:54:24.000Z', 'edit_history_tweet_ids': ['1714973268678160706'], 'lang': 'ja', 'text': 'RT @Licca_28: 【#増田貴久 さん私服】\\n  \\\\📺10/19 #ぐるナイ / \\n\\n#私服ゴチ 増田貴久さんの私服\\n\\n❏ シャツ (BALENCIAGA)\\n❏ スカート (GUCCI)\\n❏ バッグ (24時間テレビ)\\n❏ スニーカー (ROKH×CONVERSE)…', 'id': '1714973268678160706'}\n"
          ]
        }
      ]
    },
    {
      "cell_type": "code",
      "source": [
        "# You can specify expansions to retrieve additional objects that relate to the\n",
        "# returned results\n",
        "response = client.search_recent_tweets(\n",
        "    \"gucci\", expansions=[\"attachments.media_keys\", \"author_id\"]\n",
        ")\n",
        "tweets = response.data\n",
        "\n",
        "# You can then access those objects in the includes Response field\n",
        "includes = response.includes\n",
        "users = includes[\"users\"]\n",
        "\n",
        "# The IDs that represent the expanded objects are included directly in the\n",
        "# returned data objects\n",
        "for tweet in tweets:\n",
        "    print(tweet.author_id)\n",
        "\n",
        "# An efficient way of matching expanded objects to each data object is to\n",
        "# create a dictionary of each type of expanded object, with IDs as keys\n",
        "users = {user[\"id\"]: user for user in users}\n",
        "for tweet in tweets:\n",
        "    print(tweet.id, users[tweet.author_id].username)"
      ],
      "metadata": {
        "colab": {
          "base_uri": "https://localhost:8080/"
        },
        "id": "iz20PGOeyn5L",
        "outputId": "8bd696ef-3294-4f77-e678-d05a68d5a2b0"
      },
      "execution_count": 30,
      "outputs": [
        {
          "output_type": "stream",
          "name": "stdout",
          "text": [
            "913772507924066304\n",
            "1525476155402268672\n",
            "2877032938\n",
            "1364054590421753876\n",
            "845591280168128512\n",
            "974966196498980864\n",
            "260787312\n",
            "1276040197092732928\n",
            "1081566630587428864\n",
            "1666013218937122816\n",
            "1714973683834634591 other___planets\n",
            "1714973683331301737 BongbongJD\n",
            "1714973679866556770 sh4_rk5\n",
            "1714973673428505060 pin_ttm\n",
            "1714973672903979500 Finura_912\n",
            "1714973661319631099 MMnyaro1\n",
            "1714973657725083649 FivieSandi\n",
            "1714973654461845800 jparchiving\n",
            "1714973652347969653 WongsamanSunisa\n",
            "1714973651098124385 gemfourthlovely\n"
          ]
        }
      ]
    },
    {
      "cell_type": "code",
      "source": [
        "# Get Recent Tweets Count\n",
        "\n",
        "# This endpoint/method returns count of Tweets from the last seven days that\n",
        "# match a search query\n",
        "\n",
        "query = \"gucci -is:retweet\"\n",
        "\n",
        "# Granularity is what you want the timeseries count data to be grouped by\n",
        "# You can request minute, hour, or day granularity\n",
        "# The default granularity, if not specified is hour\n",
        "response = client.get_recent_tweets_count(query, granularity=\"day\")\n",
        "\n",
        "for count in response.data:\n",
        "    print(count)"
      ],
      "metadata": {
        "colab": {
          "base_uri": "https://localhost:8080/"
        },
        "id": "Y1hnqDDqw7Up",
        "outputId": "de492a3c-0894-4d83-dbbd-6a3db5cd2d8d"
      },
      "execution_count": 25,
      "outputs": [
        {
          "output_type": "stream",
          "name": "stdout",
          "text": [
            "{'end': '2023-10-13T00:00:00.000Z', 'start': '2023-10-12T11:49:41.000Z', 'tweet_count': 2552}\n",
            "{'end': '2023-10-14T00:00:00.000Z', 'start': '2023-10-13T00:00:00.000Z', 'tweet_count': 4578}\n",
            "{'end': '2023-10-15T00:00:00.000Z', 'start': '2023-10-14T00:00:00.000Z', 'tweet_count': 4747}\n",
            "{'end': '2023-10-16T00:00:00.000Z', 'start': '2023-10-15T00:00:00.000Z', 'tweet_count': 4807}\n",
            "{'end': '2023-10-17T00:00:00.000Z', 'start': '2023-10-16T00:00:00.000Z', 'tweet_count': 6649}\n",
            "{'end': '2023-10-18T00:00:00.000Z', 'start': '2023-10-17T00:00:00.000Z', 'tweet_count': 7071}\n",
            "{'end': '2023-10-19T00:00:00.000Z', 'start': '2023-10-18T00:00:00.000Z', 'tweet_count': 7642}\n",
            "{'end': '2023-10-19T11:49:41.000Z', 'start': '2023-10-19T00:00:00.000Z', 'tweet_count': 3028}\n"
          ]
        }
      ]
    },
    {
      "cell_type": "code",
      "source": [
        "# Get Tweets\n",
        "\n",
        "# This endpoint/method returns a variety of information about the Tweet(s)\n",
        "# specified by the requested ID or list of IDs\n",
        "\n",
        "tweet_ids = [1460323737035677698, 1293593516040269825, 1293595870563381249]\n",
        "\n",
        "# By default, only the ID and text fields of each Tweet will be returned\n",
        "# Additional fields can be retrieved using the tweet_fields parameter\n",
        "response = client.get_tweets(tweet_ids, tweet_fields=[\"created_at\"])\n",
        "\n",
        "for tweet in response.data:\n",
        "    print(tweet.id, tweet.created_at)"
      ],
      "metadata": {
        "id": "D1-miAE_0XIM"
      },
      "execution_count": null,
      "outputs": []
    },
    {
      "cell_type": "code",
      "execution_count": 33,
      "metadata": {
        "id": "KQS-jVMxPblI",
        "colab": {
          "base_uri": "https://localhost:8080/",
          "height": 383
        },
        "outputId": "02912f43-6e53-46d4-be61-3401556c6626"
      },
      "outputs": [
        {
          "output_type": "error",
          "ename": "ImportError",
          "evalue": "ignored",
          "traceback": [
            "\u001b[0;31m---------------------------------------------------------------------------\u001b[0m",
            "\u001b[0;31mImportError\u001b[0m                               Traceback (most recent call last)",
            "\u001b[0;32m<ipython-input-33-6256da33b566>\u001b[0m in \u001b[0;36m<cell line: 5>\u001b[0;34m()\u001b[0m\n\u001b[1;32m      3\u001b[0m \u001b[0;32mfrom\u001b[0m \u001b[0mtweepy\u001b[0m \u001b[0;32mimport\u001b[0m \u001b[0mOAuthHandler\u001b[0m\u001b[0;34m\u001b[0m\u001b[0;34m\u001b[0m\u001b[0m\n\u001b[1;32m      4\u001b[0m \u001b[0;32mfrom\u001b[0m \u001b[0mtweepy\u001b[0m \u001b[0;32mimport\u001b[0m \u001b[0mStream\u001b[0m\u001b[0;34m\u001b[0m\u001b[0;34m\u001b[0m\u001b[0m\n\u001b[0;32m----> 5\u001b[0;31m \u001b[0;32mfrom\u001b[0m \u001b[0mtweepy\u001b[0m \u001b[0;32mimport\u001b[0m \u001b[0mStreamListener\u001b[0m\u001b[0;34m\u001b[0m\u001b[0;34m\u001b[0m\u001b[0m\n\u001b[0m\u001b[1;32m      6\u001b[0m \u001b[0;34m\u001b[0m\u001b[0m\n\u001b[1;32m      7\u001b[0m \u001b[0;32mclass\u001b[0m \u001b[0mListener\u001b[0m\u001b[0;34m(\u001b[0m\u001b[0mStreamListener\u001b[0m\u001b[0;34m)\u001b[0m\u001b[0;34m:\u001b[0m\u001b[0;34m\u001b[0m\u001b[0;34m\u001b[0m\u001b[0m\n",
            "\u001b[0;31mImportError\u001b[0m: cannot import name 'StreamListener' from 'tweepy' (/usr/local/lib/python3.10/dist-packages/tweepy/__init__.py)",
            "",
            "\u001b[0;31m---------------------------------------------------------------------------\u001b[0;32m\nNOTE: If your import is failing due to a missing package, you can\nmanually install dependencies using either !pip or !apt.\n\nTo view examples of installing some common dependencies, click the\n\"Open Examples\" button below.\n\u001b[0;31m---------------------------------------------------------------------------\u001b[0m\n"
          ],
          "errorDetails": {
            "actions": [
              {
                "action": "open_url",
                "actionText": "Open Examples",
                "url": "/notebooks/snippets/importing_libraries.ipynb"
              }
            ]
          }
        }
      ],
      "source": [
        "import json\n",
        "\n",
        "from tweepy import OAuthHandler\n",
        "from tweepy import Stream\n",
        "from tweepy import StreamListener\n",
        "\n",
        "class Listener(StreamListener):\n",
        "\n",
        "   def on_data(self, data):\n",
        "\n",
        "        all_data = json.loads(data)\n",
        "\n",
        "        tweet = all_data.get(\"text\")\n",
        "        print(tweet)\n",
        "        return True\n"
      ]
    },
    {
      "cell_type": "code",
      "source": [
        "import tweepy\n",
        "\n",
        "client = tweepy.Client(\n",
        "    consumer_key=API_KEY,\n",
        "    consumer_secret=API_SECRET,\n",
        "    access_token=ACCESS_TOKEN,\n",
        "    access_token_secret=ACCESS_TOKEN_SECRET\n",
        ")\n",
        "\n",
        "# Create Tweet\n",
        "\n",
        "# The app and the corresponding credentials must have the Write permission\n",
        "\n",
        "# Check the App permissions section of the Settings tab of your app, under the\n",
        "# Twitter Developer Portal Projects & Apps page at\n",
        "# https://developer.twitter.com/en/portal/projects-and-apps\n",
        "\n",
        "# Make sure to reauthorize your app / regenerate your access token and secret\n",
        "# after setting the Write permission\n",
        "\n",
        "response = client.create_tweet(\n",
        "    text=\"Macquarie Customer Advocacy Lab is now open! We listen voice of customers across social media. What is your industry of interest? Email: darren.kim@mq.edu.au\"\n",
        ")\n",
        "print(f\"https://twitter.com/user/status/{response.data['id']}\")"
      ],
      "metadata": {
        "colab": {
          "base_uri": "https://localhost:8080/",
          "height": 425
        },
        "id": "bZ4LUzRSzMwz",
        "outputId": "67d54e21-95bf-4429-a030-c8a572e73d85"
      },
      "execution_count": 31,
      "outputs": [
        {
          "output_type": "error",
          "ename": "Forbidden",
          "evalue": "ignored",
          "traceback": [
            "\u001b[0;31m---------------------------------------------------------------------------\u001b[0m",
            "\u001b[0;31mForbidden\u001b[0m                                 Traceback (most recent call last)",
            "\u001b[0;32m<ipython-input-31-90866c8b73f6>\u001b[0m in \u001b[0;36m<cell line: 22>\u001b[0;34m()\u001b[0m\n\u001b[1;32m     20\u001b[0m \u001b[0;31m# after setting the Write permission\u001b[0m\u001b[0;34m\u001b[0m\u001b[0;34m\u001b[0m\u001b[0m\n\u001b[1;32m     21\u001b[0m \u001b[0;34m\u001b[0m\u001b[0m\n\u001b[0;32m---> 22\u001b[0;31m response = client.create_tweet(\n\u001b[0m\u001b[1;32m     23\u001b[0m     \u001b[0mtext\u001b[0m\u001b[0;34m=\u001b[0m\u001b[0;34m\"Macquarie Customer Advocacy Lab is now open! We listen voice of customers across social media. What is your industry of interest? Email: darren.kim@mq.edu.au\"\u001b[0m\u001b[0;34m\u001b[0m\u001b[0;34m\u001b[0m\u001b[0m\n\u001b[1;32m     24\u001b[0m )\n",
            "\u001b[0;32m/usr/local/lib/python3.10/dist-packages/tweepy/client.py\u001b[0m in \u001b[0;36mcreate_tweet\u001b[0;34m(self, direct_message_deep_link, for_super_followers_only, place_id, media_ids, media_tagged_user_ids, poll_duration_minutes, poll_options, quote_tweet_id, exclude_reply_user_ids, in_reply_to_tweet_id, reply_settings, text, user_auth)\u001b[0m\n\u001b[1;32m    833\u001b[0m         \u001b[0;32mif\u001b[0m \u001b[0mreply_settings\u001b[0m \u001b[0;32mis\u001b[0m \u001b[0;32mnot\u001b[0m \u001b[0;32mNone\u001b[0m\u001b[0;34m:\u001b[0m\u001b[0;34m\u001b[0m\u001b[0;34m\u001b[0m\u001b[0m\n\u001b[1;32m    834\u001b[0m             \u001b[0mjson\u001b[0m\u001b[0;34m[\u001b[0m\u001b[0;34m\"reply_settings\"\u001b[0m\u001b[0;34m]\u001b[0m \u001b[0;34m=\u001b[0m \u001b[0mreply_settings\u001b[0m\u001b[0;34m\u001b[0m\u001b[0;34m\u001b[0m\u001b[0m\n\u001b[0;32m--> 835\u001b[0;31m \u001b[0;34m\u001b[0m\u001b[0m\n\u001b[0m\u001b[1;32m    836\u001b[0m         \u001b[0;32mif\u001b[0m \u001b[0mtext\u001b[0m \u001b[0;32mis\u001b[0m \u001b[0;32mnot\u001b[0m \u001b[0;32mNone\u001b[0m\u001b[0;34m:\u001b[0m\u001b[0;34m\u001b[0m\u001b[0;34m\u001b[0m\u001b[0m\n\u001b[1;32m    837\u001b[0m             \u001b[0mjson\u001b[0m\u001b[0;34m[\u001b[0m\u001b[0;34m\"text\"\u001b[0m\u001b[0;34m]\u001b[0m \u001b[0;34m=\u001b[0m \u001b[0mtext\u001b[0m\u001b[0;34m\u001b[0m\u001b[0;34m\u001b[0m\u001b[0m\n",
            "\u001b[0;32m/usr/local/lib/python3.10/dist-packages/tweepy/client.py\u001b[0m in \u001b[0;36m_make_request\u001b[0;34m(self, method, route, params, endpoint_parameters, json, data_type, user_auth)\u001b[0m\n\u001b[1;32m    127\u001b[0m         \u001b[0mrequest_params\u001b[0m \u001b[0;34m=\u001b[0m \u001b[0mself\u001b[0m\u001b[0;34m.\u001b[0m\u001b[0m_process_params\u001b[0m\u001b[0;34m(\u001b[0m\u001b[0mparams\u001b[0m\u001b[0;34m,\u001b[0m \u001b[0mendpoint_parameters\u001b[0m\u001b[0;34m)\u001b[0m\u001b[0;34m\u001b[0m\u001b[0;34m\u001b[0m\u001b[0m\n\u001b[1;32m    128\u001b[0m \u001b[0;34m\u001b[0m\u001b[0m\n\u001b[0;32m--> 129\u001b[0;31m         response = self.request(method, route, params=request_params,\n\u001b[0m\u001b[1;32m    130\u001b[0m                                 json=json, user_auth=user_auth)\n\u001b[1;32m    131\u001b[0m \u001b[0;34m\u001b[0m\u001b[0m\n",
            "\u001b[0;32m/usr/local/lib/python3.10/dist-packages/tweepy/client.py\u001b[0m in \u001b[0;36mrequest\u001b[0;34m(self, method, route, params, json, user_auth)\u001b[0m\n\u001b[1;32m     98\u001b[0m                 \u001b[0;32mraise\u001b[0m \u001b[0mUnauthorized\u001b[0m\u001b[0;34m(\u001b[0m\u001b[0mresponse\u001b[0m\u001b[0;34m)\u001b[0m\u001b[0;34m\u001b[0m\u001b[0;34m\u001b[0m\u001b[0m\n\u001b[1;32m     99\u001b[0m             \u001b[0;32mif\u001b[0m \u001b[0mresponse\u001b[0m\u001b[0;34m.\u001b[0m\u001b[0mstatus_code\u001b[0m \u001b[0;34m==\u001b[0m \u001b[0;36m403\u001b[0m\u001b[0;34m:\u001b[0m\u001b[0;34m\u001b[0m\u001b[0;34m\u001b[0m\u001b[0m\n\u001b[0;32m--> 100\u001b[0;31m                 \u001b[0;32mraise\u001b[0m \u001b[0mForbidden\u001b[0m\u001b[0;34m(\u001b[0m\u001b[0mresponse\u001b[0m\u001b[0;34m)\u001b[0m\u001b[0;34m\u001b[0m\u001b[0;34m\u001b[0m\u001b[0m\n\u001b[0m\u001b[1;32m    101\u001b[0m             \u001b[0;32mif\u001b[0m \u001b[0mresponse\u001b[0m\u001b[0;34m.\u001b[0m\u001b[0mstatus_code\u001b[0m \u001b[0;34m==\u001b[0m \u001b[0;36m404\u001b[0m\u001b[0;34m:\u001b[0m\u001b[0;34m\u001b[0m\u001b[0;34m\u001b[0m\u001b[0m\n\u001b[1;32m    102\u001b[0m                 \u001b[0;32mraise\u001b[0m \u001b[0mNotFound\u001b[0m\u001b[0;34m(\u001b[0m\u001b[0mresponse\u001b[0m\u001b[0;34m)\u001b[0m\u001b[0;34m\u001b[0m\u001b[0;34m\u001b[0m\u001b[0m\n",
            "\u001b[0;31mForbidden\u001b[0m: 403 Forbidden\nYour client app is not configured with the appropriate oauth1 app permissions for this endpoint."
          ]
        }
      ]
    },
    {
      "cell_type": "code",
      "source": [
        "f_count=api.GetFollwerIDs(\"gucci\")\n",
        "\n",
        "print(f_count)"
      ],
      "metadata": {
        "colab": {
          "base_uri": "https://localhost:8080/",
          "height": 210
        },
        "id": "USnlzTiYlQuT",
        "outputId": "8fec7333-f69f-4a14-e286-f898edc31e63"
      },
      "execution_count": 24,
      "outputs": [
        {
          "output_type": "error",
          "ename": "AttributeError",
          "evalue": "ignored",
          "traceback": [
            "\u001b[0;31m---------------------------------------------------------------------------\u001b[0m",
            "\u001b[0;31mAttributeError\u001b[0m                            Traceback (most recent call last)",
            "\u001b[0;32m<ipython-input-24-e1e3a6d981b9>\u001b[0m in \u001b[0;36m<cell line: 1>\u001b[0;34m()\u001b[0m\n\u001b[0;32m----> 1\u001b[0;31m \u001b[0mf_count\u001b[0m\u001b[0;34m=\u001b[0m\u001b[0mapi\u001b[0m\u001b[0;34m.\u001b[0m\u001b[0mGetFollwerIDs\u001b[0m\u001b[0;34m(\u001b[0m\u001b[0;34m\"gucci\"\u001b[0m\u001b[0;34m)\u001b[0m\u001b[0;34m\u001b[0m\u001b[0;34m\u001b[0m\u001b[0m\n\u001b[0m\u001b[1;32m      2\u001b[0m \u001b[0;34m\u001b[0m\u001b[0m\n\u001b[1;32m      3\u001b[0m \u001b[0mprint\u001b[0m\u001b[0;34m(\u001b[0m\u001b[0mf_count\u001b[0m\u001b[0;34m)\u001b[0m\u001b[0;34m\u001b[0m\u001b[0;34m\u001b[0m\u001b[0m\n",
            "\u001b[0;31mAttributeError\u001b[0m: 'API' object has no attribute 'GetFollwerIDs'"
          ]
        }
      ]
    },
    {
      "cell_type": "code",
      "source": [
        "#OAuth 1.0a User Context\n",
        "\n",
        "import tweepy\n",
        "\n",
        "auth = tweepy.OAuth2BearerHandler(BEARER_TOKEN)\n",
        "api = tweepy.API(auth)\n",
        "\n",
        "#client = tweepy.Client(BEARER_TOKEN)\n",
        "client = tweepy.Client(\n",
        "    consumer_key=API_KEY,\n",
        "    consumer_secret=API_SECRET,\n",
        "    access_token=ACCESS_TOKEN,\n",
        "    access_token_secret= ACCESS_TOKEN_SECRET\n",
        ")"
      ],
      "metadata": {
        "id": "wb02ltlqXJA9"
      },
      "execution_count": 11,
      "outputs": []
    },
    {
      "cell_type": "code",
      "source": [
        "#OAuth 2.0 Authorization Code Flow with PKCE (User Context)\n",
        "\n",
        "\n",
        "CLIENT_ID = \"MmMtX2RmbGVOREVLOE5FakFEcGI6MTpjaQ\"\n",
        "CLIENT_SECRET = \"jlCVnhjYVtIsEwgkULASD0VibJsqHFFmt5Hj1MhZFvVEzar3yG\"\n",
        "REDIRECT_URL = \"https://www.commbank.com.au/\"\n",
        "\n",
        "\n",
        "import tweepy\n",
        "oauth2_user_handler = tweepy.OAuth2UserHandler(\n",
        "    client_id= CLIENT_ID,\n",
        "    redirect_url= REDIRECT_URL,\n",
        "    scope=[\"Scope_here\",\"Scope_here\"],\n",
        "    client_secret= CLIENT_SECRET #Client secret is only necessary if using a confidential client\n",
        "\n",
        "\n",
        ")\n",
        "\n",
        "\n",
        "#Get the authorization URL\n",
        "print(qoauth2_user_handler.get_authorization_url())"
      ],
      "metadata": {
        "colab": {
          "base_uri": "https://localhost:8080/",
          "height": 245
        },
        "id": "Of8XI0feYgwu",
        "outputId": "e78847da-c721-4b17-e9be-6a77dec462d6"
      },
      "execution_count": 14,
      "outputs": [
        {
          "output_type": "error",
          "ename": "TypeError",
          "evalue": "ignored",
          "traceback": [
            "\u001b[0;31m---------------------------------------------------------------------------\u001b[0m",
            "\u001b[0;31mTypeError\u001b[0m                                 Traceback (most recent call last)",
            "\u001b[0;32m<ipython-input-14-5443c654df23>\u001b[0m in \u001b[0;36m<cell line: 10>\u001b[0;34m()\u001b[0m\n\u001b[1;32m      8\u001b[0m \u001b[0;34m\u001b[0m\u001b[0m\n\u001b[1;32m      9\u001b[0m \u001b[0;32mimport\u001b[0m \u001b[0mtweepy\u001b[0m\u001b[0;34m\u001b[0m\u001b[0;34m\u001b[0m\u001b[0m\n\u001b[0;32m---> 10\u001b[0;31m oauth2_user_handler = tweepy.OAuth2UserHandler(\n\u001b[0m\u001b[1;32m     11\u001b[0m     \u001b[0mclient_id\u001b[0m\u001b[0;34m=\u001b[0m \u001b[0mCLIENT_ID\u001b[0m\u001b[0;34m,\u001b[0m\u001b[0;34m\u001b[0m\u001b[0;34m\u001b[0m\u001b[0m\n\u001b[1;32m     12\u001b[0m     \u001b[0mredirect_url\u001b[0m\u001b[0;34m=\u001b[0m \u001b[0mREDIRECT_URL\u001b[0m\u001b[0;34m,\u001b[0m\u001b[0;34m\u001b[0m\u001b[0;34m\u001b[0m\u001b[0m\n",
            "\u001b[0;31mTypeError\u001b[0m: OAuth2UserHandler.__init__() got an unexpected keyword argument 'redirect_url'"
          ]
        }
      ]
    },
    {
      "cell_type": "code",
      "source": [
        "response = oauth2_user_handler.fetch_token(\n",
        "    \"Authorization Response URL here\"\n",
        ")\n",
        "access_token = response[\"access_token\"]\n",
        "client = tweepy.Client(\"Access Token here\")"
      ],
      "metadata": {
        "id": "PEYEN9u_Z0SI"
      },
      "execution_count": null,
      "outputs": []
    },
    {
      "cell_type": "code",
      "source": [
        "import tweepy\n",
        "\n",
        "\n",
        "\n",
        "\n",
        "api = tweepy.api(consumer_key= API_KEY,\n",
        "                  consumer_secret= API_SECRET,\n",
        "                  access_token_key= ACCESS_TOKEN,\n",
        "                  access_token_secret= ACCESS_TOKEN_SECRET)\n",
        "\n"
      ],
      "metadata": {
        "colab": {
          "base_uri": "https://localhost:8080/",
          "height": 245
        },
        "id": "WRxgLTaWUcbL",
        "outputId": "4a2d7c76-fa18-4e8e-bbcc-ad3884f49b60"
      },
      "execution_count": 5,
      "outputs": [
        {
          "output_type": "error",
          "ename": "TypeError",
          "evalue": "ignored",
          "traceback": [
            "\u001b[0;31m---------------------------------------------------------------------------\u001b[0m",
            "\u001b[0;31mTypeError\u001b[0m                                 Traceback (most recent call last)",
            "\u001b[0;32m<ipython-input-5-478d32de28ca>\u001b[0m in \u001b[0;36m<cell line: 10>\u001b[0;34m()\u001b[0m\n\u001b[1;32m      8\u001b[0m \u001b[0mACCESS_TOKEN_SECRET\u001b[0m \u001b[0;34m=\u001b[0m \u001b[0;34m\"zGnY2fsxeAZjPEHbftdElTOucNe2spnY4PRzWCLlll4Z8\"\u001b[0m\u001b[0;34m\u001b[0m\u001b[0;34m\u001b[0m\u001b[0m\n\u001b[1;32m      9\u001b[0m \u001b[0;34m\u001b[0m\u001b[0m\n\u001b[0;32m---> 10\u001b[0;31m api = tweepy.api(consumer_key= API_KEY, \n\u001b[0m\u001b[1;32m     11\u001b[0m                   \u001b[0mconsumer_secret\u001b[0m\u001b[0;34m=\u001b[0m \u001b[0mAPI_SECRET\u001b[0m\u001b[0;34m,\u001b[0m\u001b[0;34m\u001b[0m\u001b[0;34m\u001b[0m\u001b[0m\n\u001b[1;32m     12\u001b[0m                   \u001b[0maccess_token_key\u001b[0m\u001b[0;34m=\u001b[0m \u001b[0mACCESS_TOKEN\u001b[0m\u001b[0;34m,\u001b[0m\u001b[0;34m\u001b[0m\u001b[0;34m\u001b[0m\u001b[0m\n",
            "\u001b[0;31mTypeError\u001b[0m: 'API' object is not callable"
          ]
        }
      ]
    },
    {
      "cell_type": "code",
      "source": [
        "# Get the User object that represents the user, @Gucci\n",
        "user = api.get_user(screen_name=\"Gucci\")"
      ],
      "metadata": {
        "colab": {
          "base_uri": "https://localhost:8080/",
          "height": 193
        },
        "id": "1PXHmw4mWnPN",
        "outputId": "1e3620ef-9293-43a6-de69-5fb91d0727e7"
      },
      "execution_count": 6,
      "outputs": [
        {
          "output_type": "error",
          "ename": "NameError",
          "evalue": "ignored",
          "traceback": [
            "\u001b[0;31m---------------------------------------------------------------------------\u001b[0m",
            "\u001b[0;31mNameError\u001b[0m                                 Traceback (most recent call last)",
            "\u001b[0;32m<ipython-input-6-59f1aeacbae0>\u001b[0m in \u001b[0;36m<cell line: 2>\u001b[0;34m()\u001b[0m\n\u001b[1;32m      1\u001b[0m \u001b[0;31m# Get the User object that represents the user, @Gucci\u001b[0m\u001b[0;34m\u001b[0m\u001b[0;34m\u001b[0m\u001b[0m\n\u001b[0;32m----> 2\u001b[0;31m \u001b[0muser\u001b[0m \u001b[0;34m=\u001b[0m \u001b[0mapi\u001b[0m\u001b[0;34m.\u001b[0m\u001b[0mget_user\u001b[0m\u001b[0;34m(\u001b[0m\u001b[0mscreen_name\u001b[0m\u001b[0;34m=\u001b[0m\u001b[0;34m\"Gucci\"\u001b[0m\u001b[0;34m)\u001b[0m\u001b[0;34m\u001b[0m\u001b[0;34m\u001b[0m\u001b[0m\n\u001b[0m",
            "\u001b[0;31mNameError\u001b[0m: name 'api' is not defined"
          ]
        }
      ]
    },
    {
      "cell_type": "code",
      "source": [
        "f_count=api.GetFollwerIDs(@)\n",
        "\n",
        "print(f_count)"
      ],
      "metadata": {
        "id": "ItXyYGrnV6iG"
      },
      "execution_count": null,
      "outputs": []
    }
  ]
}